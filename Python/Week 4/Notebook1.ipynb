{
  "nbformat": 4,
  "nbformat_minor": 0,
  "metadata": {
    "colab": {
      "name": "Notebook1.ipynb",
      "provenance": []
    },
    "kernelspec": {
      "name": "python3",
      "display_name": "Python 3"
    }
  },
  "cells": [
    {
      "cell_type": "markdown",
      "metadata": {
        "id": "1_7uhR9yeAWk",
        "colab_type": "text"
      },
      "source": [
        "# **Python Try Except**\n",
        "\n",
        "The try block lets you test a block of code for errors.\n",
        "\n",
        "The except block lets you handle the error.\n",
        "\n",
        "The finally block lets you execute code, regardless of the result of the try- and except blocks.\n"
      ]
    },
    {
      "cell_type": "markdown",
      "metadata": {
        "id": "O9xb5SvXeY5j",
        "colab_type": "text"
      },
      "source": [
        "### **Exception Handling**\n",
        "\n",
        "When an error occurs, or exception as we call it, Python will normally stop and generate an error message.\n",
        "\n",
        "These exceptions can be handled using the try statement:"
      ]
    },
    {
      "cell_type": "code",
      "metadata": {
        "id": "1Sj6kdK0ebOM",
        "colab_type": "code",
        "colab": {
          "base_uri": "https://localhost:8080/",
          "height": 34
        },
        "outputId": "24386cc5-b68b-4ecf-dde9-edaf50a4b880"
      },
      "source": [
        "try:\n",
        "  print(w)\n",
        "except:\n",
        "  print(\"An exception occurred\")\n",
        "\n",
        "\n",
        "#The try block will generate an exception, because w is not defined"
      ],
      "execution_count": null,
      "outputs": [
        {
          "output_type": "stream",
          "text": [
            "An exception occurred\n"
          ],
          "name": "stdout"
        }
      ]
    },
    {
      "cell_type": "markdown",
      "metadata": {
        "id": "vljEYHvyesBR",
        "colab_type": "text"
      },
      "source": [
        "Since the try block raises an error, the except block will be executed.\n",
        "\n",
        "Without the try block, the program will crash and raise an error:"
      ]
    },
    {
      "cell_type": "code",
      "metadata": {
        "id": "LkixXmBoewVV",
        "colab_type": "code",
        "colab": {
          "base_uri": "https://localhost:8080/",
          "height": 163
        },
        "outputId": "b0db7362-1bdd-4fcb-f28c-ee7375d23d87"
      },
      "source": [
        "print(w)"
      ],
      "execution_count": null,
      "outputs": [
        {
          "output_type": "error",
          "ename": "NameError",
          "evalue": "ignored",
          "traceback": [
            "\u001b[0;31m---------------------------------------------------------------------------\u001b[0m",
            "\u001b[0;31mNameError\u001b[0m                                 Traceback (most recent call last)",
            "\u001b[0;32m<ipython-input-13-bcfe7ead5c3f>\u001b[0m in \u001b[0;36m<module>\u001b[0;34m()\u001b[0m\n\u001b[0;32m----> 1\u001b[0;31m \u001b[0mprint\u001b[0m\u001b[0;34m(\u001b[0m\u001b[0mw\u001b[0m\u001b[0;34m)\u001b[0m\u001b[0;34m\u001b[0m\u001b[0;34m\u001b[0m\u001b[0m\n\u001b[0m",
            "\u001b[0;31mNameError\u001b[0m: name 'w' is not defined"
          ]
        }
      ]
    },
    {
      "cell_type": "markdown",
      "metadata": {
        "id": "1M-oMAS1e2jL",
        "colab_type": "text"
      },
      "source": [
        "### **Many Exceptions**\n",
        "\n",
        "You can define as many exception blocks as you want, e.g. if you want to execute a special block of code for a special kind of error :"
      ]
    },
    {
      "cell_type": "markdown",
      "metadata": {
        "id": "e73lRsMLfHXJ",
        "colab_type": "text"
      },
      "source": [
        "\n",
        "Print one message if the try block raises a NameError and another for other errors"
      ]
    },
    {
      "cell_type": "code",
      "metadata": {
        "id": "iWdmRh0wfBfC",
        "colab_type": "code",
        "colab": {
          "base_uri": "https://localhost:8080/",
          "height": 34
        },
        "outputId": "ab9a9e1a-2dc1-4ad5-9363-5071cd753fe5"
      },
      "source": [
        "try:\n",
        "  print(y)\n",
        "except NameError:\n",
        "  print(\"Variable y is not defined\")\n",
        "except:\n",
        "  print(\"Something else went wrong\")"
      ],
      "execution_count": null,
      "outputs": [
        {
          "output_type": "stream",
          "text": [
            "Variable y is not defined\n"
          ],
          "name": "stdout"
        }
      ]
    },
    {
      "cell_type": "markdown",
      "metadata": {
        "id": "54qPiJ_VfNfK",
        "colab_type": "text"
      },
      "source": [
        "### **Else**\n",
        "\n",
        "You can use the else keyword to define a block of code to be executed if no errors were raised:"
      ]
    },
    {
      "cell_type": "markdown",
      "metadata": {
        "id": "uQsXg1w8fWXu",
        "colab_type": "text"
      },
      "source": [
        "In this example, the try block does not generate any error"
      ]
    },
    {
      "cell_type": "code",
      "metadata": {
        "id": "mfsvaR0tfaYv",
        "colab_type": "code",
        "colab": {
          "base_uri": "https://localhost:8080/",
          "height": 51
        },
        "outputId": "b18fb00f-e389-4d6e-f0d5-181a4a59bfa1"
      },
      "source": [
        "try:\n",
        "  print(\"Hello\")\n",
        "except:\n",
        "  print(\"Something went wrong\")\n",
        "else:\n",
        "  print(\"Nothing went wrong\")"
      ],
      "execution_count": null,
      "outputs": [
        {
          "output_type": "stream",
          "text": [
            "Hello\n",
            "Nothing went wrong\n"
          ],
          "name": "stdout"
        }
      ]
    },
    {
      "cell_type": "markdown",
      "metadata": {
        "id": "iH8aw3Hlno3s",
        "colab_type": "text"
      },
      "source": [
        "### **Finally**\n",
        "\n",
        "The finally block, if specified, will be executed regardless if the try block raises an error or not.\n",
        "\n"
      ]
    },
    {
      "cell_type": "code",
      "metadata": {
        "id": "WBoNc7PNnwE1",
        "colab_type": "code",
        "colab": {
          "base_uri": "https://localhost:8080/",
          "height": 51
        },
        "outputId": "7affa006-e70b-485f-abf6-485c40888140"
      },
      "source": [
        "try:\n",
        "  print(z)\n",
        "except:\n",
        "  print(\"Something went wrong\")\n",
        "finally:\n",
        "  print(\"The 'try except' is finished\")"
      ],
      "execution_count": null,
      "outputs": [
        {
          "output_type": "stream",
          "text": [
            "Something went wrong\n",
            "The 'try except' is finished\n"
          ],
          "name": "stdout"
        }
      ]
    },
    {
      "cell_type": "markdown",
      "metadata": {
        "id": "yhb_K00Mn2RT",
        "colab_type": "text"
      },
      "source": [
        "### **Raise an exception**\n",
        "\n",
        "As a Python developer you can choose to throw an exception if a condition occurs.\n",
        "\n",
        "To throw (or raise) an exception, use the raise keyword."
      ]
    },
    {
      "cell_type": "markdown",
      "metadata": {
        "id": "t4w_9OjNoPZ7",
        "colab_type": "text"
      },
      "source": [
        "\n",
        "Raise an error and stop the program if x is lower than 0:"
      ]
    },
    {
      "cell_type": "code",
      "metadata": {
        "id": "uV2AddAboIaN",
        "colab_type": "code",
        "colab": {
          "base_uri": "https://localhost:8080/",
          "height": 197
        },
        "outputId": "79150243-50be-4f93-9551-c7e6f3477d38"
      },
      "source": [
        "x = -1\n",
        "\n",
        "if x < 0:\n",
        "  raise Exception(\"Sorry, no numbers below zero\")"
      ],
      "execution_count": null,
      "outputs": [
        {
          "output_type": "error",
          "ename": "Exception",
          "evalue": "ignored",
          "traceback": [
            "\u001b[0;31m---------------------------------------------------------------------------\u001b[0m",
            "\u001b[0;31mException\u001b[0m                                 Traceback (most recent call last)",
            "\u001b[0;32m<ipython-input-17-2edc57024fbc>\u001b[0m in \u001b[0;36m<module>\u001b[0;34m()\u001b[0m\n\u001b[1;32m      2\u001b[0m \u001b[0;34m\u001b[0m\u001b[0m\n\u001b[1;32m      3\u001b[0m \u001b[0;32mif\u001b[0m \u001b[0mx\u001b[0m \u001b[0;34m<\u001b[0m \u001b[0;36m0\u001b[0m\u001b[0;34m:\u001b[0m\u001b[0;34m\u001b[0m\u001b[0;34m\u001b[0m\u001b[0m\n\u001b[0;32m----> 4\u001b[0;31m   \u001b[0;32mraise\u001b[0m \u001b[0mException\u001b[0m\u001b[0;34m(\u001b[0m\u001b[0;34m\"Sorry, no numbers below zero\"\u001b[0m\u001b[0;34m)\u001b[0m\u001b[0;34m\u001b[0m\u001b[0;34m\u001b[0m\u001b[0m\n\u001b[0m",
            "\u001b[0;31mException\u001b[0m: Sorry, no numbers below zero"
          ]
        }
      ]
    },
    {
      "cell_type": "markdown",
      "metadata": {
        "id": "_gSFQiDfobNO",
        "colab_type": "text"
      },
      "source": [
        "The raise keyword is used to raise an exception.\n",
        "\n",
        "You can define what kind of error to raise, and the text to print to the user.\n",
        "\n",
        "Example: Raise a TypeError if x is not an integer"
      ]
    },
    {
      "cell_type": "code",
      "metadata": {
        "id": "USLfD2Xpogvv",
        "colab_type": "code",
        "colab": {
          "base_uri": "https://localhost:8080/",
          "height": 197
        },
        "outputId": "3d07aab8-5c6c-4019-e48a-da7f84da1c7f"
      },
      "source": [
        "x = \"hello\"\n",
        "\n",
        "if not type(x) is int:\n",
        "  raise TypeError(\"Only integers are allowed\")"
      ],
      "execution_count": null,
      "outputs": [
        {
          "output_type": "error",
          "ename": "TypeError",
          "evalue": "ignored",
          "traceback": [
            "\u001b[0;31m---------------------------------------------------------------------------\u001b[0m",
            "\u001b[0;31mTypeError\u001b[0m                                 Traceback (most recent call last)",
            "\u001b[0;32m<ipython-input-18-bc91768a6271>\u001b[0m in \u001b[0;36m<module>\u001b[0;34m()\u001b[0m\n\u001b[1;32m      2\u001b[0m \u001b[0;34m\u001b[0m\u001b[0m\n\u001b[1;32m      3\u001b[0m \u001b[0;32mif\u001b[0m \u001b[0;32mnot\u001b[0m \u001b[0mtype\u001b[0m\u001b[0;34m(\u001b[0m\u001b[0mx\u001b[0m\u001b[0;34m)\u001b[0m \u001b[0;32mis\u001b[0m \u001b[0mint\u001b[0m\u001b[0;34m:\u001b[0m\u001b[0;34m\u001b[0m\u001b[0;34m\u001b[0m\u001b[0m\n\u001b[0;32m----> 4\u001b[0;31m   \u001b[0;32mraise\u001b[0m \u001b[0mTypeError\u001b[0m\u001b[0;34m(\u001b[0m\u001b[0;34m\"Only integers are allowed\"\u001b[0m\u001b[0;34m)\u001b[0m\u001b[0;34m\u001b[0m\u001b[0;34m\u001b[0m\u001b[0m\n\u001b[0m",
            "\u001b[0;31mTypeError\u001b[0m: Only integers are allowed"
          ]
        }
      ]
    }
  ]
}