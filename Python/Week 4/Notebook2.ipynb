{
  "nbformat": 4,
  "nbformat_minor": 0,
  "metadata": {
    "colab": {
      "name": "Notebook2.ipynb",
      "provenance": []
    },
    "kernelspec": {
      "name": "python3",
      "display_name": "Python 3"
    }
  },
  "cells": [
    {
      "cell_type": "markdown",
      "metadata": {
        "id": "nMxHSMr_WvI5",
        "colab_type": "text"
      },
      "source": [
        "# **Python Iterators**\n",
        "\n",
        "Iterators are objects that can be iterated upon. In this tutorial, you will learn how iterator works and how you can build your own iterator using <code>__iter__()</code> and <code>__next__()</code> methods.\n",
        "\n",
        "Iterators are everywhere in Python. They are elegantly implemented within for loops, comprehensions, generators etc. but are hidden in plain sight.\n",
        "\n",
        "Iterator in Python is simply an object that can be iterated upon. An object which will return data, one element at a time.\n",
        "\n",
        "Technically speaking, a Python iterator object must implement two special methods, <code>__iter__()</code> and <code>__next__()</code>, collectively called the iterator protocol.\n",
        "\n",
        "An object is called iterable if we can get an iterator from it. Most built-in containers in Python like: list, tuple, string etc. are iterables.\n",
        "\n",
        "The iter() function (which in turn calls the <code>__iter__()</code> method) returns an iterator from them."
      ]
    },
    {
      "cell_type": "markdown",
      "metadata": {
        "id": "LtEmo4WMYe1U",
        "colab_type": "text"
      },
      "source": [
        "### **Iterating Through an Iterator**\n",
        "\n",
        "We use the next() function to manually iterate through all the items of an iterator. When we reach the end and there is no more data to be returned, it will raise the StopIteration Exception. Following is an example.\n",
        "\n",
        "(Run the following cells one by one in order to get the expected output.)"
      ]
    },
    {
      "cell_type": "code",
      "metadata": {
        "id": "wNyT5qwVX_T-",
        "colab_type": "code",
        "colab": {}
      },
      "source": [
        "# define a list\n",
        "my_list = [4, 7, 0, 3]\n",
        "\n",
        "# get an iterator using iter()\n",
        "my_iter = iter(my_list)"
      ],
      "execution_count": null,
      "outputs": []
    },
    {
      "cell_type": "code",
      "metadata": {
        "id": "D-mkBKAXX_3O",
        "colab_type": "code",
        "colab": {
          "base_uri": "https://localhost:8080/",
          "height": 51
        },
        "outputId": "78e01b1b-74a0-4186-a622-a8aaab770aa5"
      },
      "source": [
        "# iterate through it using next()\n",
        "\n",
        "# Output: 4\n",
        "print(next(my_iter))\n",
        "\n",
        "# Output: 7\n",
        "print(next(my_iter))"
      ],
      "execution_count": null,
      "outputs": [
        {
          "output_type": "stream",
          "text": [
            "4\n",
            "7\n"
          ],
          "name": "stdout"
        }
      ]
    },
    {
      "cell_type": "code",
      "metadata": {
        "id": "wpTwtddfYAY2",
        "colab_type": "code",
        "colab": {
          "base_uri": "https://localhost:8080/",
          "height": 51
        },
        "outputId": "9013bf64-4021-469b-de95-25b79073dc1f"
      },
      "source": [
        "# next(obj) is same as obj.__next__()\n",
        "\n",
        "# Output: 0\n",
        "print(my_iter.__next__())\n",
        "\n",
        "# Output: 3\n",
        "print(my_iter.__next__())"
      ],
      "execution_count": null,
      "outputs": [
        {
          "output_type": "stream",
          "text": [
            "0\n",
            "3\n"
          ],
          "name": "stdout"
        }
      ]
    },
    {
      "cell_type": "code",
      "metadata": {
        "id": "-53OXaxbYA3X",
        "colab_type": "code",
        "colab": {
          "base_uri": "https://localhost:8080/",
          "height": 180
        },
        "outputId": "dee621f4-7952-4b66-e710-0ae489eb2bb9"
      },
      "source": [
        "# This will raise error, no items left\n",
        "next(my_iter)"
      ],
      "execution_count": null,
      "outputs": [
        {
          "output_type": "error",
          "ename": "StopIteration",
          "evalue": "ignored",
          "traceback": [
            "\u001b[0;31m---------------------------------------------------------------------------\u001b[0m",
            "\u001b[0;31mStopIteration\u001b[0m                             Traceback (most recent call last)",
            "\u001b[0;32m<ipython-input-9-8aa6b2558394>\u001b[0m in \u001b[0;36m<module>\u001b[0;34m()\u001b[0m\n\u001b[1;32m      1\u001b[0m \u001b[0;31m# This will raise error, no items left\u001b[0m\u001b[0;34m\u001b[0m\u001b[0;34m\u001b[0m\u001b[0;34m\u001b[0m\u001b[0m\n\u001b[0;32m----> 2\u001b[0;31m \u001b[0mnext\u001b[0m\u001b[0;34m(\u001b[0m\u001b[0mmy_iter\u001b[0m\u001b[0;34m)\u001b[0m\u001b[0;34m\u001b[0m\u001b[0;34m\u001b[0m\u001b[0m\n\u001b[0m",
            "\u001b[0;31mStopIteration\u001b[0m: "
          ]
        }
      ]
    },
    {
      "cell_type": "markdown",
      "metadata": {
        "id": "pcH3mFdBY0X7",
        "colab_type": "text"
      },
      "source": [
        "A more elegant way of automatically iterating is by using the for loop. Using this, we can iterate over any object that can return an iterator, for example list, string, file etc."
      ]
    },
    {
      "cell_type": "code",
      "metadata": {
        "id": "4vFpatuQY8CE",
        "colab_type": "code",
        "colab": {
          "base_uri": "https://localhost:8080/",
          "height": 85
        },
        "outputId": "98d72522-5b70-48b8-d7ec-de718545be8f"
      },
      "source": [
        "for element in my_list:\n",
        "  print(element)"
      ],
      "execution_count": null,
      "outputs": [
        {
          "output_type": "stream",
          "text": [
            "4\n",
            "7\n",
            "0\n",
            "3\n"
          ],
          "name": "stdout"
        }
      ]
    },
    {
      "cell_type": "markdown",
      "metadata": {
        "id": "bujfG99YZD_r",
        "colab_type": "text"
      },
      "source": [
        "### **Working of for loop for Iterators**\n",
        "\n",
        "As we see in the above example, the for loop was able to iterate automatically through the list.\n",
        "\n",
        "In fact the for loop can iterate over any iterable. Let's take a closer look at how the for loop is actually implemented in Python."
      ]
    },
    {
      "cell_type": "code",
      "metadata": {
        "id": "YJrWRIRfbhWl",
        "colab_type": "code",
        "colab": {}
      },
      "source": [
        "for element in iterable:\n",
        "    # do something with element"
      ],
      "execution_count": null,
      "outputs": []
    },
    {
      "cell_type": "markdown",
      "metadata": {
        "id": "xcSQcZzSbl-H",
        "colab_type": "text"
      },
      "source": [
        "Is actually implemented as"
      ]
    },
    {
      "cell_type": "code",
      "metadata": {
        "id": "oKDS6XuIbpYv",
        "colab_type": "code",
        "colab": {}
      },
      "source": [
        "# create an iterator object from that iterable\n",
        "iter_obj = iter(iterable)\n",
        "\n",
        "# infinite loop\n",
        "while True:\n",
        "    try:\n",
        "        # get the next item\n",
        "        element = next(iter_obj)\n",
        "        # do something with element\n",
        "    except StopIteration:\n",
        "        # if StopIteration is raised, break from loop\n",
        "        break"
      ],
      "execution_count": null,
      "outputs": []
    },
    {
      "cell_type": "markdown",
      "metadata": {
        "id": "xuagqvoPbszO",
        "colab_type": "text"
      },
      "source": [
        "So internally, the for loop creates an iterator object, iter_obj by calling iter() on the iterable.\n",
        "\n",
        "Ironically, this for loop is actually an infinite while loop.\n",
        "\n",
        "Inside the loop, it calls next() to get the next element and executes the body of the for loop with this value. After all the items exhaust, StopIteration is raised which is internally caught and the loop ends. Note that any other kind of exception will pass through."
      ]
    },
    {
      "cell_type": "markdown",
      "metadata": {
        "id": "doD9YlRAcUNz",
        "colab_type": "text"
      },
      "source": [
        "### **Building Custom Iterators**\n",
        "\n",
        "Building an iterator from scratch is easy in Python. We just have to implement the <code>__iter__()</code> and the <code>__next__()</code> methods.\n",
        "\n",
        "The <code>__iter__()</code> method returns the iterator object itself. If required, some initialization can be performed.\n",
        "\n",
        "The <code>__next__()</code> method must return the next item in the sequence. On reaching the end, and in subsequent calls, it must raise StopIteration.\n",
        "\n",
        "Here is an iterator that returns numbers, starting with 1, and each sequence will increase by one (returning 1,2,3,4,5 etc.)"
      ]
    },
    {
      "cell_type": "code",
      "metadata": {
        "id": "Hf9sQeP_cnma",
        "colab_type": "code",
        "colab": {
          "base_uri": "https://localhost:8080/",
          "height": 102
        },
        "outputId": "7f4552d4-fd74-4ed1-f46c-f2f68bea074b"
      },
      "source": [
        "class MyNumbers:\n",
        "  def __iter__(self):\n",
        "    self.a = 1\n",
        "    return self\n",
        "\n",
        "  def __next__(self):\n",
        "    x = self.a\n",
        "    self.a += 1\n",
        "    return x\n",
        "\n",
        "myclass = MyNumbers()\n",
        "myiter = iter(myclass)\n",
        "\n",
        "print(next(myiter))\n",
        "print(next(myiter))\n",
        "print(next(myiter))\n",
        "print(next(myiter))\n",
        "print(next(myiter))"
      ],
      "execution_count": null,
      "outputs": [
        {
          "output_type": "stream",
          "text": [
            "1\n",
            "2\n",
            "3\n",
            "4\n",
            "5\n"
          ],
          "name": "stdout"
        }
      ]
    },
    {
      "cell_type": "markdown",
      "metadata": {
        "id": "B8fLN7KVdMWV",
        "colab_type": "text"
      },
      "source": [
        "### **StopIteration**\n",
        "\n",
        "The example above would continue forever if you had enough next() statements, or if it was used in a for loop.\n",
        "\n",
        "To prevent the iteration to go on forever, we can use the StopIteration statement.\n",
        "\n",
        "In the <code>__next__()</code> method, we can add a terminating condition to raise an error if the iteration is done a specified number of times:"
      ]
    },
    {
      "cell_type": "code",
      "metadata": {
        "id": "gbvc4Ag8diOu",
        "colab_type": "code",
        "colab": {
          "base_uri": "https://localhost:8080/",
          "height": 357
        },
        "outputId": "7316ae90-9d3b-49a4-fa6e-8297d5d411f4"
      },
      "source": [
        "class MyNumbers:\n",
        "  def __iter__(self):\n",
        "    self.a = 1\n",
        "    return self\n",
        "\n",
        "  def __next__(self):\n",
        "    if self.a <= 20:\n",
        "      x = self.a\n",
        "      self.a += 1\n",
        "      return x\n",
        "    else:\n",
        "      raise StopIteration\n",
        "\n",
        "myclass = MyNumbers()\n",
        "myiter = iter(myclass)\n",
        "\n",
        "for x in myiter:\n",
        "  print(x)"
      ],
      "execution_count": null,
      "outputs": [
        {
          "output_type": "stream",
          "text": [
            "1\n",
            "2\n",
            "3\n",
            "4\n",
            "5\n",
            "6\n",
            "7\n",
            "8\n",
            "9\n",
            "10\n",
            "11\n",
            "12\n",
            "13\n",
            "14\n",
            "15\n",
            "16\n",
            "17\n",
            "18\n",
            "19\n",
            "20\n"
          ],
          "name": "stdout"
        }
      ]
    }
  ]
}
