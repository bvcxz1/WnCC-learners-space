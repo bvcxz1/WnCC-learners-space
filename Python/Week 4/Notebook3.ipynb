{
  "nbformat": 4,
  "nbformat_minor": 0,
  "metadata": {
    "colab": {
      "name": "Notebook3.ipynb",
      "provenance": []
    },
    "kernelspec": {
      "name": "python3",
      "display_name": "Python 3"
    }
  },
  "cells": [
    {
      "cell_type": "markdown",
      "metadata": {
        "id": "c6XTebfetsT3",
        "colab_type": "text"
      },
      "source": [
        "# **Python Generators**\n",
        "\n",
        "In this tutorial, you'll learn how to create iterations easily using Python generators, how it is different from iterators and normal functions, and why you should use it."
      ]
    },
    {
      "cell_type": "markdown",
      "metadata": {
        "id": "7BZfhR45tvbA",
        "colab_type": "text"
      },
      "source": [
        "There is a lot of work in building an iterator in Python. We have to implement a class with <code>__iter__()</code> and <code>__next__()</code> method, keep track of internal states, and raise StopIteration when there are no values to be returned.\n",
        "\n",
        "This is both lengthy and counterintuitive. Generator comes to the rescue in such situations.\n",
        "\n",
        "Python generators are a simple way of creating iterators. All the work we mentioned above are automatically handled by generators in Python.\n",
        "\n",
        "Simply speaking, a generator is a function that returns an object (iterator) which we can iterate over (one value at a time)."
      ]
    },
    {
      "cell_type": "markdown",
      "metadata": {
        "id": "hjVY7e_EuD8v",
        "colab_type": "text"
      },
      "source": [
        "### **Create Generators in Python**\n",
        "\n",
        "It is fairly simple to create a generator in Python. It is as easy as defining a normal function, but with a yield statement instead of a return statement.\n",
        "\n",
        "If a function contains at least one yield statement (it may contain other yield or return statements), it becomes a generator function. Both yield and return will return some value from a function.\n",
        "\n",
        "The difference is that while a return statement terminates a function entirely, yield statement pauses the function saving all its states and later continues from there on successive calls."
      ]
    },
    {
      "cell_type": "markdown",
      "metadata": {
        "id": "4H7stj4AvJaN",
        "colab_type": "text"
      },
      "source": [
        "**Differences between Generator function and Normal function**\n",
        "\n",
        "Here is how a generator function differs from a normal function.\n",
        "\n",
        "* Generator function contains one or more yield statements.\n",
        "\n",
        "* When called, it returns an object (iterator) but does not start execution immediately.\n",
        "\n",
        "* Methods like <code>__iter__()</code> and <code>__next__()</code> are implemented automatically. So we can iterate through the items using next().\n",
        "\n",
        "* Once the function yields, the function is paused and the control is transferred to the caller.\n",
        "\n",
        "* Local variables and their states are remembered between successive calls.\n",
        "Finally, when the function terminates, StopIteration is raised automatically on further calls.\n",
        "\n",
        "Here is an example to illustrate all of the points stated above. We have a generator function named my_gen() with several yield statements"
      ]
    },
    {
      "cell_type": "code",
      "metadata": {
        "id": "Hdx3eNOXvYF9",
        "colab_type": "code",
        "colab": {}
      },
      "source": [
        "# A simple generator function\n",
        "def my_gen():\n",
        "    n = 1\n",
        "    print('This is printed first')\n",
        "    # Generator function contains yield statements\n",
        "    yield n\n",
        "\n",
        "    n += 1\n",
        "    print('This is printed second')\n",
        "    yield n\n",
        "\n",
        "    n += 1\n",
        "    print('This is printed at last')\n",
        "    yield n\n",
        "\n",
        "\n",
        "# Run the next 5 cells one by one in orderly manner after running this one."
      ],
      "execution_count": null,
      "outputs": []
    },
    {
      "cell_type": "code",
      "metadata": {
        "id": "0SKxbImOxqit",
        "colab_type": "code",
        "colab": {}
      },
      "source": [
        "# It returns an object but does not start execution immediately.\n",
        "a = my_gen()"
      ],
      "execution_count": null,
      "outputs": []
    },
    {
      "cell_type": "code",
      "metadata": {
        "id": "DqTlwTzvx7RU",
        "colab_type": "code",
        "colab": {
          "base_uri": "https://localhost:8080/",
          "height": 51
        },
        "outputId": "1bee1b0e-40fa-4711-9429-624c8f493152"
      },
      "source": [
        "# We can iterate through the items using next().\n",
        "next(a)"
      ],
      "execution_count": null,
      "outputs": [
        {
          "output_type": "stream",
          "text": [
            "This is printed first\n"
          ],
          "name": "stdout"
        },
        {
          "output_type": "execute_result",
          "data": {
            "text/plain": [
              "1"
            ]
          },
          "metadata": {
            "tags": []
          },
          "execution_count": 3
        }
      ]
    },
    {
      "cell_type": "code",
      "metadata": {
        "id": "Hd8EUGAHx9va",
        "colab_type": "code",
        "colab": {
          "base_uri": "https://localhost:8080/",
          "height": 51
        },
        "outputId": "51bdc851-07e8-43f5-9ff6-7e8def495488"
      },
      "source": [
        "# Once the function yields, the function is paused and the control is transferred to the caller.\n",
        "\n",
        "# Local variables and theirs states are remembered between successive calls.\n",
        "next(a)"
      ],
      "execution_count": null,
      "outputs": [
        {
          "output_type": "stream",
          "text": [
            "This is printed second\n"
          ],
          "name": "stdout"
        },
        {
          "output_type": "execute_result",
          "data": {
            "text/plain": [
              "2"
            ]
          },
          "metadata": {
            "tags": []
          },
          "execution_count": 4
        }
      ]
    },
    {
      "cell_type": "code",
      "metadata": {
        "id": "hdx4ZT0vyBMQ",
        "colab_type": "code",
        "colab": {
          "base_uri": "https://localhost:8080/",
          "height": 51
        },
        "outputId": "59e44431-a9a3-4421-a364-496954a695a6"
      },
      "source": [
        "next(a)"
      ],
      "execution_count": null,
      "outputs": [
        {
          "output_type": "stream",
          "text": [
            "This is printed at last\n"
          ],
          "name": "stdout"
        },
        {
          "output_type": "execute_result",
          "data": {
            "text/plain": [
              "3"
            ]
          },
          "metadata": {
            "tags": []
          },
          "execution_count": 5
        }
      ]
    },
    {
      "cell_type": "code",
      "metadata": {
        "id": "lqCJBciJyGjy",
        "colab_type": "code",
        "colab": {
          "base_uri": "https://localhost:8080/",
          "height": 180
        },
        "outputId": "94ec72e2-a6af-42d2-b9b1-3e665666a428"
      },
      "source": [
        "# Finally, when the function terminates, StopIteration is raised automatically on further calls.\n",
        "next(a)"
      ],
      "execution_count": null,
      "outputs": [
        {
          "output_type": "error",
          "ename": "StopIteration",
          "evalue": "ignored",
          "traceback": [
            "\u001b[0;31m---------------------------------------------------------------------------\u001b[0m",
            "\u001b[0;31mStopIteration\u001b[0m                             Traceback (most recent call last)",
            "\u001b[0;32m<ipython-input-6-23d7f63eb6ab>\u001b[0m in \u001b[0;36m<module>\u001b[0;34m()\u001b[0m\n\u001b[1;32m      1\u001b[0m \u001b[0;31m# Finally, when the function terminates, StopIteration is raised automatically on further calls.\u001b[0m\u001b[0;34m\u001b[0m\u001b[0;34m\u001b[0m\u001b[0;34m\u001b[0m\u001b[0m\n\u001b[0;32m----> 2\u001b[0;31m \u001b[0mnext\u001b[0m\u001b[0;34m(\u001b[0m\u001b[0ma\u001b[0m\u001b[0;34m)\u001b[0m\u001b[0;34m\u001b[0m\u001b[0;34m\u001b[0m\u001b[0m\n\u001b[0m",
            "\u001b[0;31mStopIteration\u001b[0m: "
          ]
        }
      ]
    },
    {
      "cell_type": "markdown",
      "metadata": {
        "id": "pb--ioDpzfUD",
        "colab_type": "text"
      },
      "source": [
        "One interesting thing to note in the above example is that the value of variable n is remembered between each call.\n",
        "\n",
        "Unlike normal functions, the local variables are not destroyed when the function yields. Furthermore, the generator object can be iterated only once.\n",
        "\n",
        "To restart the process we need to create another generator object using something like a = my_gen().\n",
        "\n",
        "One final thing to note is that we can use generators with for loops directly.\n",
        "\n",
        "This is because a for loop takes an iterator and iterates over it using next() function. It automatically ends when StopIteration is raised. Check here to know how a for loop is actually implemented in Python"
      ]
    },
    {
      "cell_type": "code",
      "metadata": {
        "id": "ezhwkkf1zuN7",
        "colab_type": "code",
        "colab": {}
      },
      "source": [
        "# A simple generator function\n",
        "def my_gen():\n",
        "    n = 1\n",
        "    print('This is printed first')\n",
        "    # Generator function contains yield statements\n",
        "    yield n\n",
        "\n",
        "    n += 1\n",
        "    print('This is printed second')\n",
        "    yield n\n",
        "\n",
        "    n += 1\n",
        "    print('This is printed at last')\n",
        "    yield n\n",
        "\n",
        "\n",
        "# Using for loop\n",
        "for item in my_gen():\n",
        "    print(item)"
      ],
      "execution_count": null,
      "outputs": []
    },
    {
      "cell_type": "markdown",
      "metadata": {
        "id": "dEgrJGWwzxsY",
        "colab_type": "text"
      },
      "source": [
        "### **Python Generators with a Loop**\n",
        "\n",
        "The above example is of less use and we studied it just to get an idea of what was happening in the background.\n",
        "\n",
        "Normally, generator functions are implemented with a loop having a suitable terminating condition.\n",
        "\n",
        "Let's take an example of a generator that reverses a string."
      ]
    },
    {
      "cell_type": "code",
      "metadata": {
        "id": "R7WDyLGW-Jd8",
        "colab_type": "code",
        "colab": {
          "base_uri": "https://localhost:8080/",
          "height": 102
        },
        "outputId": "6d235fc2-82ee-4fcd-9538-aa93a2cf4d9e"
      },
      "source": [
        "def rev_str(my_str):\n",
        "    length = len(my_str)\n",
        "    for i in range(length):\n",
        "        yield my_str[i]\n",
        "\n",
        "\n",
        "# For loop to reverse the string\n",
        "for char in rev_str(\"hello\"):\n",
        "    print(char)"
      ],
      "execution_count": null,
      "outputs": [
        {
          "output_type": "stream",
          "text": [
            "h\n",
            "e\n",
            "l\n",
            "l\n",
            "o\n"
          ],
          "name": "stdout"
        }
      ]
    },
    {
      "cell_type": "markdown",
      "metadata": {
        "id": "ZNjZZLuv-Snj",
        "colab_type": "text"
      },
      "source": [
        "### **Python Generator Expression**\n",
        "\n",
        "Simple generators can be easily created on the fly using generator expressions. It makes building generators easy.\n",
        "\n",
        "Similar to the lambda functions which create anonymous functions, generator expressions create anonymous generator functions.\n",
        "\n",
        "The syntax for generator expression is similar to that of a list comprehension in Python. But the square brackets are replaced with round parentheses.\n",
        "\n",
        "The major difference between a list comprehension and a generator expression is that a list comprehension produces the entire list while the generator expression produces one item at a time.\n",
        "\n",
        "They have lazy execution ( producing items only when asked for ). For this reason, a generator expression is much more memory efficient than an equivalent list comprehension"
      ]
    },
    {
      "cell_type": "code",
      "metadata": {
        "id": "yLTXRuFJBYxd",
        "colab_type": "code",
        "colab": {
          "base_uri": "https://localhost:8080/",
          "height": 51
        },
        "outputId": "abf998b3-aa5e-45d0-8fff-09f3b7b59db7"
      },
      "source": [
        "# Initialize the list\n",
        "my_list = [1, 3, 6, 10]\n",
        "\n",
        "# square each term using list comprehension\n",
        "list_ = [x**2 for x in my_list]\n",
        "\n",
        "# same thing can be done using a generator expression\n",
        "# generator expressions are surrounded by parenthesis ()\n",
        "generator = (x**2 for x in my_list)\n",
        "\n",
        "print(list_)\n",
        "print(generator)"
      ],
      "execution_count": null,
      "outputs": [
        {
          "output_type": "stream",
          "text": [
            "[1, 9, 36, 100]\n",
            "<generator object <genexpr> at 0x7fa8895e3bf8>\n"
          ],
          "name": "stdout"
        }
      ]
    },
    {
      "cell_type": "markdown",
      "metadata": {
        "id": "weRec8NUBf4v",
        "colab_type": "text"
      },
      "source": [
        "We can see above that the generator expression did not produce the required result immediately. Instead, it returned a generator object, which produces items only on demand.\n",
        "\n",
        "Here is how we can start getting items from the generator:"
      ]
    },
    {
      "cell_type": "code",
      "metadata": {
        "id": "BMlP1z2QBhMm",
        "colab_type": "code",
        "colab": {
          "base_uri": "https://localhost:8080/",
          "height": 265
        },
        "outputId": "da9850de-10d7-4353-fd5e-481eb20bae0c"
      },
      "source": [
        "# Initialize the list\n",
        "my_list = [1, 3, 6, 10]\n",
        "\n",
        "a = (x**2 for x in my_list)\n",
        "print(next(a))\n",
        "\n",
        "print(next(a))\n",
        "\n",
        "print(next(a))\n",
        "\n",
        "print(next(a))\n",
        "\n",
        "next(a) #Error"
      ],
      "execution_count": null,
      "outputs": [
        {
          "output_type": "stream",
          "text": [
            "1\n",
            "9\n",
            "36\n",
            "100\n"
          ],
          "name": "stdout"
        },
        {
          "output_type": "error",
          "ename": "StopIteration",
          "evalue": "ignored",
          "traceback": [
            "\u001b[0;31m---------------------------------------------------------------------------\u001b[0m",
            "\u001b[0;31mStopIteration\u001b[0m                             Traceback (most recent call last)",
            "\u001b[0;32m<ipython-input-9-f7b055f5764d>\u001b[0m in \u001b[0;36m<module>\u001b[0;34m()\u001b[0m\n\u001b[1;32m     11\u001b[0m \u001b[0mprint\u001b[0m\u001b[0;34m(\u001b[0m\u001b[0mnext\u001b[0m\u001b[0;34m(\u001b[0m\u001b[0ma\u001b[0m\u001b[0;34m)\u001b[0m\u001b[0;34m)\u001b[0m\u001b[0;34m\u001b[0m\u001b[0;34m\u001b[0m\u001b[0m\n\u001b[1;32m     12\u001b[0m \u001b[0;34m\u001b[0m\u001b[0m\n\u001b[0;32m---> 13\u001b[0;31m \u001b[0mnext\u001b[0m\u001b[0;34m(\u001b[0m\u001b[0ma\u001b[0m\u001b[0;34m)\u001b[0m\u001b[0;34m\u001b[0m\u001b[0;34m\u001b[0m\u001b[0m\n\u001b[0m",
            "\u001b[0;31mStopIteration\u001b[0m: "
          ]
        }
      ]
    },
    {
      "cell_type": "markdown",
      "metadata": {
        "id": "WHhPd5PmBnSC",
        "colab_type": "text"
      },
      "source": [
        "Generator expressions can be used as function arguments. When used in such a way, the round parentheses can be dropped."
      ]
    },
    {
      "cell_type": "code",
      "metadata": {
        "id": "_LHUDSRpButP",
        "colab_type": "code",
        "colab": {
          "base_uri": "https://localhost:8080/",
          "height": 51
        },
        "outputId": "ce9be859-5122-4ba4-d11c-cb2b48d09267"
      },
      "source": [
        "s = sum(x**2 for x in my_list)\n",
        "print(s)\n",
        "m = max(x**2 for x in my_list)\n",
        "print(m)"
      ],
      "execution_count": null,
      "outputs": [
        {
          "output_type": "stream",
          "text": [
            "146\n",
            "100\n"
          ],
          "name": "stdout"
        }
      ]
    },
    {
      "cell_type": "markdown",
      "metadata": {
        "id": "yHWK4Mr_B9Fx",
        "colab_type": "text"
      },
      "source": [
        "# **Advantages of using Generators**\n",
        "<br>\n",
        "<br>\n",
        "\n",
        "**1.Easy to Implement**\n",
        "\n",
        "Generators can be implemented in a clear and concise way as compared to their iterator class counterpart. Following is an example to implement a sequence of power of 2 using an iterator class.\n",
        "\n",
        "<code>  class PowTwo:\n",
        "\n",
        "          def __init__(self, max=0):\n",
        "      \n",
        "              self.n = 0\n",
        "      \n",
        "              self.max = max\n",
        "\n",
        "          def __iter__(self):\n",
        "      \n",
        "              return self\n",
        "\n",
        "          def __next__(self):\n",
        "      \n",
        "              if self.n > self.max:\n",
        "      \n",
        "                  raise StopIteration\n",
        "\n",
        "              result = 2 ** self.n\n",
        "              \n",
        "              self.n += 1\n",
        "              \n",
        "              return result\n",
        "\n",
        "</code>\n",
        "\n",
        "The above program was lengthy and confusing. Now, let's do the same using a generator function.\n",
        "\n",
        "\n",
        "<code>def PowTwoGen(max=0):\n",
        "\n",
        "        n = 0\n",
        "\n",
        "        while n < max:\n",
        "\n",
        "            yield 2 ** n\n",
        "\n",
        "            n += 1\n",
        "\n",
        "</code>\n",
        "\n",
        "Since generators keep track of details automatically, the implementation was concise and much cleaner.\n",
        "\n",
        "**2.Memory Efficient**\n",
        "\n",
        "A normal function to return a sequence will create the entire sequence in memory before returning the result. This is an overkill, if the number of items in the sequence is very large.\n",
        "\n",
        "Generator implementation of such sequences is memory friendly and is preferred since it only produces one item at a time.\n",
        "\n",
        "**3.Represent Infinite Stream**\n",
        "\n",
        "Generators are excellent mediums to represent an infinite stream of data. Infinite streams cannot be stored in memory, and since generators produce only one item at a time, they can represent an infinite stream of data.\n",
        "\n",
        "The following generator function can generate all the even numbers (at least in theory).\n",
        "\n",
        "<code>def all_even():\n",
        "    \n",
        "        n = 0\n",
        "    \n",
        "        while True:\n",
        "    \n",
        "            yield n\n",
        "    \n",
        "            n += 2\n",
        "</code>\n",
        "\n",
        "**4.Pipelining Generators**\n",
        "\n",
        "Multiple generators can be used to pipeline a series of operations. This is best illustrated using an example.\n",
        "\n",
        "Suppose we have a generator that produces the numbers in the Fibonacci series. And we have another generator for squaring numbers.\n",
        "\n",
        "If we want to find out the sum of squares of numbers in the Fibonacci series, we can do it in the following way by pipelining the output of generator functions together.\n",
        "\n",
        "<code>def fibonacci_numbers(nums):\n",
        "          \n",
        "          x, y = 0, 1\n",
        "          \n",
        "          for _ in range(nums):\n",
        "          \n",
        "              x, y = y, x+y\n",
        "          \n",
        "              yield x\n",
        " \n",
        "     def square(nums):\n",
        "      \n",
        "          for num in nums:\n",
        "      \n",
        "              yield num**2\n",
        "\n",
        "     print(sum(square(fibonacci_numbers(10))))\n",
        "</code>"
      ]
    }
  ]
}
