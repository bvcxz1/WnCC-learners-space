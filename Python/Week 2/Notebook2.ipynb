{
  "nbformat": 4,
  "nbformat_minor": 0,
  "metadata": {
    "colab": {
      "name": "Notebook2.ipynb",
      "provenance": [],
      "collapsed_sections": []
    },
    "kernelspec": {
      "name": "python3",
      "display_name": "Python 3"
    }
  },
  "cells": [
    {
      "cell_type": "markdown",
      "metadata": {
        "id": "2HR9rEVTZYCN",
        "colab_type": "text"
      },
      "source": [
        "#**Scope and Lifetime of variables**\n",
        "\n",
        "Scope of a variable is the portion of a program where the variable is recognized. Parameters and variables defined inside a function are not visible from outside the function. Hence, they have a local scope.\n",
        "\n",
        "The lifetime of a variable is the period throughout which the variable exits in the memory. The lifetime of variables inside a function is as long as the function executes.\n",
        "\n",
        "They are destroyed once we return from the function. Hence, a function does not remember the value of a variable from its previous calls.\n",
        "\n",
        "Here is an example to illustrate the scope of a variable inside a function."
      ]
    },
    {
      "cell_type": "code",
      "metadata": {
        "id": "tWDXDCf9aay8",
        "colab_type": "code",
        "colab": {}
      },
      "source": [
        "def my_func():\n",
        "\tx = 10\n",
        "\tprint(\"Value inside function:\",x)\n",
        "\n",
        "x = 20\n",
        "my_func()\n",
        "print(\"Value outside function:\",x)"
      ],
      "execution_count": null,
      "outputs": []
    },
    {
      "cell_type": "markdown",
      "metadata": {
        "id": "Rc_D77Z1axav",
        "colab_type": "text"
      },
      "source": [
        "Here, we can see that the value of x is 20 initially. Even though the function my_func() changed the value of x to 10, it did not affect the value outside the function.\n",
        "\n",
        "This is because the variable x inside the function is different (local to the function) from the one outside. Although they have the same names, they are two different variables with different scopes.\n",
        "\n",
        "On the other hand, variables outside of the function are visible from inside. They have a global scope.\n",
        "\n",
        "We can read these values from inside the function but cannot change (write) them. In order to modify the value of variables outside the function, they must be declared as global variables using the keyword global."
      ]
    },
    {
      "cell_type": "markdown",
      "metadata": {
        "id": "jit5gxt2f1-p",
        "colab_type": "text"
      },
      "source": [
        "<hr>"
      ]
    },
    {
      "cell_type": "markdown",
      "metadata": {
        "id": "fDG5JkcDa2MK",
        "colab_type": "text"
      },
      "source": [
        "**Recursion**\n",
        "\n",
        "Python also accepts function recursion, which means a defined function can call itself.\n",
        "\n",
        "Recursion is a common mathematical and programming concept. It means that a function calls itself. This has the benefit of meaning that you can loop through data to reach a result.\n",
        "\n",
        "The developer should be very careful with recursion as it can be quite easy to slip into writing a function which never terminates, or one that uses excess amounts of memory or processor power. However, when written correctly recursion can be a very efficient and mathematically-elegant approach to programming.\n",
        "\n",
        "In this example, tri_recursion() is a function that we have defined to call itself (\"recurse\"). We use the k variable as the data, which decrements (-1) every time we recurse. The recursion ends when the condition is not greater than 0 (i.e. when it is 0).\n",
        "\n",
        "To a new developer it can take some time to work out how exactly this works, best way to find out is by testing and modifying it."
      ]
    },
    {
      "cell_type": "code",
      "metadata": {
        "id": "0HVV2PEwf5WS",
        "colab_type": "code",
        "colab": {}
      },
      "source": [
        "def tri_recursion(k):\n",
        "  if(k > 0):\n",
        "    result = k + tri_recursion(k - 1)\n",
        "    print(result)\n",
        "  else:\n",
        "    result = 0\n",
        "  return result\n",
        "\n",
        "print(\"\\n\\nRecursion Example Results\")\n",
        "tri_recursion(6)"
      ],
      "execution_count": null,
      "outputs": []
    },
    {
      "cell_type": "markdown",
      "metadata": {
        "id": "ainFkUoJjLty",
        "colab_type": "text"
      },
      "source": [
        "**Python Lambda Function**\n",
        "\n",
        "A lambda function is a small anonymous function.\n",
        "\n",
        "A lambda function can take any number of arguments, but can only have one expression.\n",
        "\n",
        "**syntax :**"
      ]
    },
    {
      "cell_type": "code",
      "metadata": {
        "id": "IqjEAbSkjUZz",
        "colab_type": "code",
        "colab": {}
      },
      "source": [
        "lambda arguments : expression\n",
        "#Do Not Run"
      ],
      "execution_count": null,
      "outputs": []
    },
    {
      "cell_type": "code",
      "metadata": {
        "id": "k-ircPjujoZ2",
        "colab_type": "code",
        "colab": {}
      },
      "source": [
        "x = lambda a : a + 10\n",
        "print(x(5))"
      ],
      "execution_count": null,
      "outputs": []
    },
    {
      "cell_type": "markdown",
      "metadata": {
        "id": "KBs4ygpajXGN",
        "colab_type": "text"
      },
      "source": [
        "Lambda functions can take any number of arguments:"
      ]
    },
    {
      "cell_type": "code",
      "metadata": {
        "id": "CQvdB0tyjgP5",
        "colab_type": "code",
        "colab": {}
      },
      "source": [
        "x = lambda a, b, c : a + b + c\n",
        "print(x(5, 6, 2))"
      ],
      "execution_count": null,
      "outputs": []
    },
    {
      "cell_type": "markdown",
      "metadata": {
        "id": "uJJL6npKjr7a",
        "colab_type": "text"
      },
      "source": [
        "Why Use Lambda Functions?\n",
        "\n",
        "The power of lambda is better shown when you use them as an anonymous function inside another function.\n",
        "\n",
        "Say you have a function definition that takes one argument, and that argument will be multiplied with an unknown number:"
      ]
    },
    {
      "cell_type": "code",
      "metadata": {
        "id": "eOV4bLW5jy8Q",
        "colab_type": "code",
        "colab": {}
      },
      "source": [
        "def myfunc(n):\n",
        "  return lambda a : a * n"
      ],
      "execution_count": null,
      "outputs": []
    },
    {
      "cell_type": "markdown",
      "metadata": {
        "id": "nkbPApj8j5O_",
        "colab_type": "text"
      },
      "source": [
        "Use that function definition to make a function that always doubles the number you send in:\n",
        "\n"
      ]
    },
    {
      "cell_type": "code",
      "metadata": {
        "id": "dbjovfopj44h",
        "colab_type": "code",
        "colab": {}
      },
      "source": [
        "mydoubler = myfunc(2)\n",
        "\n",
        "print(mydoubler(11))"
      ],
      "execution_count": null,
      "outputs": []
    },
    {
      "cell_type": "markdown",
      "metadata": {
        "id": "vlyM5WFBkAqi",
        "colab_type": "text"
      },
      "source": [
        "Or, use the same function definition to make a function that always triples the number you send in:"
      ]
    },
    {
      "cell_type": "code",
      "metadata": {
        "id": "1PblQTyskGTY",
        "colab_type": "code",
        "colab": {}
      },
      "source": [
        "mytripler = myfunc(3)\n",
        "\n",
        "print(mytripler(11))"
      ],
      "execution_count": null,
      "outputs": []
    },
    {
      "cell_type": "markdown",
      "metadata": {
        "id": "hNaSO5bvkLIQ",
        "colab_type": "text"
      },
      "source": [
        "<hr>"
      ]
    }
  ]
}