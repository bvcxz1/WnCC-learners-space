{
  "nbformat": 4,
  "nbformat_minor": 0,
  "metadata": {
    "colab": {
      "name": "Notebook3.ipynb",
      "provenance": [],
      "collapsed_sections": []
    },
    "kernelspec": {
      "name": "python3",
      "display_name": "Python 3"
    }
  },
  "cells": [
    {
      "cell_type": "markdown",
      "metadata": {
        "id": "1eg9H9sZnkWZ",
        "colab_type": "text"
      },
      "source": [
        "# **Python Modules**\n",
        "\n",
        "What is a Module?\n",
        "\n",
        "Consider a module to be the same as a code library.\n",
        "\n",
        "A file containing a set of functions you want to include in your application.\n",
        "\n",
        "**Instructions before using this notebook (Google Colab)**\n",
        "\n",
        "* Create the files as directed using any of the code editors like VS Code, Atom, Vim, Sublime, etc.\n",
        "* In the left vertical bar of this notebook, select the files icon.\n",
        "* Select the option \"upload session storage\" and upload both the file mymodule.py everytime different for different code snippets in the notebook.\n",
        "* This files will exist only when the session is running. You will have to reupload if session expires."
      ]
    },
    {
      "cell_type": "markdown",
      "metadata": {
        "id": "6N0vyU9Bnrmc",
        "colab_type": "text"
      },
      "source": [
        "**Create a Module**\n",
        "\n",
        "To create a module just save the code you want in a file with the file extension .py:\n",
        "\n",
        "Example:\n",
        "\n",
        "Save this code in a file named mymodule.py\n",
        "\n"
      ]
    },
    {
      "cell_type": "code",
      "metadata": {
        "id": "Ci74p3Dgn9iH",
        "colab_type": "code",
        "colab": {}
      },
      "source": [
        "def greeting(name):\n",
        "  print(\"Hello, \" + name)"
      ],
      "execution_count": null,
      "outputs": []
    },
    {
      "cell_type": "markdown",
      "metadata": {
        "id": "BABxJCJFoCEu",
        "colab_type": "text"
      },
      "source": [
        "**Use a Module**\n",
        "\n",
        "Now we can use the module we just created, by using the import statement:"
      ]
    },
    {
      "cell_type": "code",
      "metadata": {
        "id": "U97n-7wcoIYD",
        "colab_type": "code",
        "colab": {}
      },
      "source": [
        "import mymodule\n",
        "\n",
        "mymodule.greeting(\"Jonathan\")"
      ],
      "execution_count": null,
      "outputs": []
    },
    {
      "cell_type": "markdown",
      "metadata": {
        "id": "_xWK7Q6joS25",
        "colab_type": "text"
      },
      "source": [
        "**Variables in Module**\n",
        "\n",
        "The module can contain functions, as already described, but also variables of all types (arrays, dictionaries, objects etc):"
      ]
    },
    {
      "cell_type": "code",
      "metadata": {
        "id": "0eqWRSptvEVS",
        "colab_type": "code",
        "colab": {}
      },
      "source": [
        "person1 = {\n",
        "  \"name\": \"John\",\n",
        "  \"age\": 36,\n",
        "  \"country\": \"Norway\"\n",
        "}"
      ],
      "execution_count": null,
      "outputs": []
    },
    {
      "cell_type": "markdown",
      "metadata": {
        "id": "Mr3FNiGUvIn4",
        "colab_type": "text"
      },
      "source": [
        "Save the module as mymodule.py\n",
        "\n",
        "Now, access \"age\" from dictionary 'person1' from mymodule.py"
      ]
    },
    {
      "cell_type": "code",
      "metadata": {
        "id": "BxLKfpkCvR2S",
        "colab_type": "code",
        "colab": {}
      },
      "source": [
        "import mymodule\n",
        "\n",
        "a = mymodule.person1[\"age\"]\n",
        "print(a)"
      ],
      "execution_count": null,
      "outputs": []
    },
    {
      "cell_type": "markdown",
      "metadata": {
        "id": "uSe7Gt9xvhv0",
        "colab_type": "text"
      },
      "source": [
        "**Naming a Module**\n",
        "\n",
        "You can name the module file whatever you like, but it must have the file extension .py\n",
        "\n",
        "**Re-naming a Module**\n",
        "\n",
        "You can create an alias when you import a module, by using the as keyword:"
      ]
    },
    {
      "cell_type": "code",
      "metadata": {
        "id": "6kmAoohvvqw1",
        "colab_type": "code",
        "colab": {}
      },
      "source": [
        "import mymodule as mx\n",
        "\n",
        "a = mx.person1[\"age\"]\n",
        "print(a)"
      ],
      "execution_count": null,
      "outputs": []
    },
    {
      "cell_type": "markdown",
      "metadata": {
        "id": "Vbb4eRo-vy_u",
        "colab_type": "text"
      },
      "source": [
        "**Import From Module**\n",
        "\n",
        "You can choose to import only parts from a module, by using the from keyword.\n",
        "\n",
        "Example:\n",
        "\n",
        "The module named mymodule has one function and one dictionary:"
      ]
    },
    {
      "cell_type": "code",
      "metadata": {
        "id": "TSosSIBnv_k5",
        "colab_type": "code",
        "colab": {}
      },
      "source": [
        "def greeting(name):\n",
        "  print(\"Hello, \" + name)\n",
        "\n",
        "person1 = {\n",
        "  \"name\": \"John\",\n",
        "  \"age\": 36,\n",
        "  \"country\": \"Norway\"\n",
        "}"
      ],
      "execution_count": null,
      "outputs": []
    },
    {
      "cell_type": "markdown",
      "metadata": {
        "id": "alayVtNPwE_m",
        "colab_type": "text"
      },
      "source": [
        "Import only the person1 dictionary from the module:"
      ]
    },
    {
      "cell_type": "code",
      "metadata": {
        "id": "ASrMmpIiwH8W",
        "colab_type": "code",
        "colab": {}
      },
      "source": [
        "from mymodule import person1\n",
        "\n",
        "print (person1[\"age\"])"
      ],
      "execution_count": null,
      "outputs": []
    },
    {
      "cell_type": "code",
      "metadata": {
        "id": "Vt-68-NqwNNK",
        "colab_type": "code",
        "colab": {}
      },
      "source": [
        "from mymodule import greeting\n",
        "\n",
        "greeting(\"WnCC\")"
      ],
      "execution_count": null,
      "outputs": []
    },
    {
      "cell_type": "markdown",
      "metadata": {
        "id": "lVw2v8fyIYUL",
        "colab_type": "text"
      },
      "source": [
        "# **Python Packages**\n",
        "\n",
        "Similar files are kept in the same directory, for example, we may keep all the songs in the \"music\" directory. Analogous to this, Python has packages for directories and modules for files.\n",
        "\n",
        "As our application program grows larger in size with a lot of modules, we place similar modules in one package and different modules in different packages. This makes a project (program) easy to manage and conceptually clear.\n",
        "\n",
        "Similarly, as a directory can contain subdirectories and files, a Python package can have sub-packages and modules.\n",
        "\n",
        "A directory must contain a file named __init__.py in order for Python to consider it as a package. This file can be left empty but we generally place the initialization code for that package in this file.\n",
        "\n",
        "Here is an example. Suppose we are developing a game. One possible organization of packages and modules could be as shown in the figure below.\n"
      ]
    },
    {
      "cell_type": "markdown",
      "metadata": {
        "id": "tciV4QzcLqpJ",
        "colab_type": "text"
      },
      "source": [
        "![alt text](https://cdn.programiz.com/sites/tutorial2program/files/PackageModuleStructure.jpg)"
      ]
    },
    {
      "cell_type": "markdown",
      "metadata": {
        "id": "ax1UMLyUwJ9q",
        "colab_type": "text"
      },
      "source": [
        "**Importing module from a package**\n",
        "\n",
        "NOTE: Do not run the code snippets given below. These are just for explaining how to access modules from packages. These snippets will show an error unless there exists a package \"Game\" as defined in the above picture.\n",
        "\n",
        "We can import modules from packages using the dot (.) operator.\n",
        "\n",
        "For example, if we want to import the start module in the above example, it can be done as follows:"
      ]
    },
    {
      "cell_type": "code",
      "metadata": {
        "id": "RURSLK0GMipR",
        "colab_type": "code",
        "colab": {}
      },
      "source": [
        "import Game.Level.start"
      ],
      "execution_count": null,
      "outputs": []
    },
    {
      "cell_type": "markdown",
      "metadata": {
        "id": "NljEwY1SMlnq",
        "colab_type": "text"
      },
      "source": [
        "Now, if this module contains a function named select_difficulty(), we must use the full name to reference it."
      ]
    },
    {
      "cell_type": "code",
      "metadata": {
        "id": "ZsElLouBMt__",
        "colab_type": "code",
        "colab": {}
      },
      "source": [
        "Game.Level.start.select_difficulty(2)"
      ],
      "execution_count": null,
      "outputs": []
    },
    {
      "cell_type": "markdown",
      "metadata": {
        "id": "SYoOo4wmM0T4",
        "colab_type": "text"
      },
      "source": [
        "If this construct seems lengthy, we can import the module without the package prefix as follows:"
      ]
    },
    {
      "cell_type": "code",
      "metadata": {
        "id": "Z0DzlWcqM8vE",
        "colab_type": "code",
        "colab": {}
      },
      "source": [
        "from Game.Level import start"
      ],
      "execution_count": null,
      "outputs": []
    },
    {
      "cell_type": "markdown",
      "metadata": {
        "id": "rBdWHdpmM9el",
        "colab_type": "text"
      },
      "source": [
        "We can now call the function simply as follows:"
      ]
    },
    {
      "cell_type": "code",
      "metadata": {
        "id": "d2pPdHAPM-AD",
        "colab_type": "code",
        "colab": {}
      },
      "source": [
        "start.select_difficulty(2)"
      ],
      "execution_count": null,
      "outputs": []
    },
    {
      "cell_type": "markdown",
      "metadata": {
        "id": "Hxr4vIj4M-ff",
        "colab_type": "text"
      },
      "source": [
        "Another way of importing just the required function (or class or variable) from a module within a package would be as follows:"
      ]
    },
    {
      "cell_type": "code",
      "metadata": {
        "id": "uGb0ugGiNNxY",
        "colab_type": "code",
        "colab": {}
      },
      "source": [
        "from Game.Level.start import select_difficulty"
      ],
      "execution_count": null,
      "outputs": []
    },
    {
      "cell_type": "markdown",
      "metadata": {
        "id": "r1zJQLLzNQCx",
        "colab_type": "text"
      },
      "source": [
        "Now we can directly call this function."
      ]
    },
    {
      "cell_type": "code",
      "metadata": {
        "id": "p8oFwn-CNSuQ",
        "colab_type": "code",
        "colab": {}
      },
      "source": [
        "select_difficulty(2)"
      ],
      "execution_count": null,
      "outputs": []
    },
    {
      "cell_type": "markdown",
      "metadata": {
        "id": "3CBpN1vpNVLQ",
        "colab_type": "text"
      },
      "source": [
        "Although easier, this method is not recommended. Using the full namespace avoids confusion and prevents two same identifier names from colliding."
      ]
    },
    {
      "cell_type": "markdown",
      "metadata": {
        "id": "GFdOg1DWO66k",
        "colab_type": "text"
      },
      "source": [
        "---"
      ]
    }
  ]
}