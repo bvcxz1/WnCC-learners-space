{
 "cells": [
  {
   "cell_type": "markdown",
   "metadata": {},
   "source": [
    "# Assignment 3 for LS Python"
   ]
  },
  {
   "cell_type": "markdown",
   "metadata": {},
   "source": [
    "So this week you learnt about Classes and Objects in Python, the concept of Inheritance and then concepts like Encapsulation, Polymorphism, function overloading. Let us know solve some questions to make those concepts concrete!"
   ]
  },
  {
   "cell_type": "markdown",
   "metadata": {},
   "source": [
    "## Question 1"
   ]
  },
  {
   "cell_type": "markdown",
   "metadata": {},
   "source": [
    "Write a Python Class to reverse a string **word** by **word**. \n",
    "\n",
    "**Input** : 'hello .py'\n",
    "\n",
    "**Output**: 'py. hello'\n",
    "\n",
    "(Remember that you have already done such questions before, just apply that knowledge to words instead of letters or numbers)\n",
    "\n",
    "Hint: use predefined methods to 'split' a string and then work ahead from there\n",
    "\n",
    "<img src=\"https://www.w3resource.com/w3r_images/python-class-image-exercise-8.svg\" alt=\"q1\" width=\"500\"/>"
   ]
  },
  {
   "cell_type": "code",
   "execution_count": null,
   "metadata": {},
   "outputs": [],
   "source": [
    "# Define a class Return the reversed string (word by word)\n",
    "\n",
    "# Print the Reversed String"
   ]
  },
  {
   "cell_type": "markdown",
   "metadata": {},
   "source": [
    "## Question 2"
   ]
  },
  {
   "cell_type": "markdown",
   "metadata": {},
   "source": [
    "Write a Python Class to implement to convert an integer to a roman numeral. \n",
    "\n",
    "Example:\n",
    "\n",
    "**Input** : 23\n",
    "\n",
    "**Output** : XXIII\n",
    "\n",
    "Make sure that you are storing only the '**required**' roman numerals, so that by using only these predefined roman numerals, your program should be able to convert any given input integer to its corresponding roman numeral. \n",
    "\n",
    "Hint : To make this question easier, you can use the information that the maximum number of special numbers (and their roman numerals) you can use is **13**, and using only these numbers, the program should work for any integer.\n",
    "\n",
    "**NOTE**: \n",
    "* Consider that the maximum input integer can not be more than 4999, because after 4999, you require more than 13 symbols to represent numbers.\n",
    "* For the purpose of this question, assume that 4999 is written using normal roman symbols as **'MMMMCMXCIX'** and can not be written in any other way. \n"
   ]
  },
  {
   "cell_type": "code",
   "execution_count": null,
   "metadata": {},
   "outputs": [],
   "source": [
    "# Define a class using the appropriate lists for storing roman numerals and the final logic of the code. \n",
    "\n",
    "# Your code:"
   ]
  },
  {
   "cell_type": "markdown",
   "metadata": {},
   "source": [
    "## Question 3"
   ]
  },
  {
   "cell_type": "markdown",
   "metadata": {},
   "source": [
    "Write a Python Class to implement pow(x,n).\n",
    "\n",
    "Note that **n** is a Real Number, i.e, n can be negative or a fraction, so your program should be able to answer any given combination of x and n. \n",
    "\n",
    "Example: \n",
    "\n",
    "**Input** : \n",
    "<br>(2,-3)\n",
    "<br>(3, 5)\n",
    "<br>(2, 0.7)\n",
    "\n",
    "**Output** : \n",
    "<br> 0.125\n",
    "<br> 243\n",
    "<br> 1.6245\n"
   ]
  },
  {
   "cell_type": "code",
   "execution_count": null,
   "metadata": {},
   "outputs": [],
   "source": [
    "# Define a single method in a class which takes in (x,n) as the input. \n",
    "\n",
    "# Your code"
   ]
  },
  {
   "cell_type": "markdown",
   "metadata": {},
   "source": [
    "## Question 4"
   ]
  },
  {
   "cell_type": "markdown",
   "metadata": {},
   "source": [
    "Write a Python class to get all possible unique subsets from a **set** of distinct integers. \n",
    "\n",
    "(Remember that a set is another data structure similar to lists, tuples, etc. So make sure that you use 'set' in your program)\n",
    "\n",
    "Example:\n",
    "\n",
    "**Input**: {4,5,6}\n",
    "\n",
    "**Output** : {}, {4}, {5}, {6}, {4,5}, {5,6}, {4,6}, {4,5,6}\n",
    "\n",
    "Hint : Try to construct the logic for the code using your knowledge of creating the **Power Set** of a set.\n",
    "\n",
    "<img src=\"https://www.w3resource.com/w3r_images/python-class-image-exercise-4.svg\" alt=\"q4\" width=\"500\"/>"
   ]
  },
  {
   "cell_type": "code",
   "execution_count": null,
   "metadata": {},
   "outputs": [],
   "source": [
    "# Define a class with 2 methods. \n",
    "\n",
    "# Your code"
   ]
  },
  {
   "cell_type": "markdown",
   "metadata": {},
   "source": [
    "## Question 5"
   ]
  },
  {
   "cell_type": "markdown",
   "metadata": {},
   "source": [
    "In this question, your task is to deal 1 card from a deck of 52 cards and display it as your output. \n",
    "\n",
    "Define a class called as **'deck'**, representing a deck of cards. Internally, the **'deck'** of cards class should use another class, a **'card'** class. Your requirements are:\n",
    "* The **Deck** class should have a **deal** method to deal a single card from the deck.\n",
    "* After a card is dealt, it is removed from the deck.\n",
    "* There should be a **shuffle** method which makes sure the deck of cards has all 52 cards and then rearranges them **randomly**.\n",
    "* The **Card** class should have a Suit (Hearts, Diamonds, Clubs, Spades) and a Value (A,2,3,4,5,6,7,8,9,10,J,Q,K).\n",
    "\n",
    "\n",
    "\n",
    "**Example Output** :\n",
    "<br>'2 of Spades'\n",
    "<br>'Jack of Diamonds'\n",
    "\n",
    "\n",
    "(Note: For shuffling the deck everytime you deal a card from the deck, you can import predefined modules, for eg: '**random**' is one such module from which you can call the '**shuffle**' method) \n",
    "\n",
    "**Make sure to attempt this question using Inheritance.**"
   ]
  },
  {
   "cell_type": "code",
   "execution_count": null,
   "metadata": {},
   "outputs": [],
   "source": [
    "# Define two classes - Deck and Card.\n",
    "\n",
    "# Your code. "
   ]
  }
 ],
 "metadata": {
  "kernelspec": {
   "display_name": "Python 3",
   "language": "python",
   "name": "python3"
  },
  "language_info": {
   "codemirror_mode": {
    "name": "ipython",
    "version": 3
   },
   "file_extension": ".py",
   "mimetype": "text/x-python",
   "name": "python",
   "nbconvert_exporter": "python",
   "pygments_lexer": "ipython3",
   "version": "3.7.4"
  }
 },
 "nbformat": 4,
 "nbformat_minor": 2
}
