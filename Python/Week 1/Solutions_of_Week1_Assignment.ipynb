{
  "nbformat": 4,
  "nbformat_minor": 0,
  "metadata": {
    "kernelspec": {
      "display_name": "Python 3",
      "language": "python",
      "name": "python3"
    },
    "language_info": {
      "codemirror_mode": {
        "name": "ipython",
        "version": 3
      },
      "file_extension": ".py",
      "mimetype": "text/x-python",
      "name": "python",
      "nbconvert_exporter": "python",
      "pygments_lexer": "ipython3",
      "version": "3.7.6"
    },
    "colab": {
      "name": "Solutions of Week1-Assignment.ipynb",
      "provenance": [],
      "collapsed_sections": []
    }
  },
  "cells": [
    {
      "cell_type": "markdown",
      "metadata": {
        "id": "O9Lc7rxoaGhi",
        "colab_type": "text"
      },
      "source": [
        "# Welcome to the first assignment of this course\n",
        "\n",
        "As you know, each week in this course is dedicated to certain specific topics and the assignment format is carefully designed suited to the content that the students have to be evaluated upon. Since, this was the first week and your introduction to Python, the assignments are basic level and wherein you have to complete the program to generate the expected output.\n",
        "\n",
        "Each question has a function written (don't worry you will be introduced to functions next week :), you just have to complete the program and run the subsequent cells which have the code to evalute the output of your fucntion. If your program matches the required output, you get a point! There are 5 questions, minimum passing criteria is to get 3/5 points."
      ]
    },
    {
      "cell_type": "markdown",
      "metadata": {
        "id": "UvcMWVKzaGh-",
        "colab_type": "text"
      },
      "source": [
        "## Q 1) Sum of Digits\n",
        "You're given an integer N. Write a program to calculate the sum of all the digits of N."
      ]
    },
    {
      "cell_type": "code",
      "metadata": {
        "id": "VmsN2fIpaGiK",
        "colab_type": "code",
        "colab": {}
      },
      "source": [
        "def calculate_sum(N):\n",
        "    sum_digits = 0\n",
        "    while(N > 0):\n",
        "        digit = N%10\n",
        "        sum_digits += digit\n",
        "        N = N//10\n",
        "    \n",
        "    return sum_digits"
      ],
      "execution_count": 26,
      "outputs": []
    },
    {
      "cell_type": "code",
      "metadata": {
        "id": "IGJHMoIUaGjY",
        "colab_type": "code",
        "colab": {
          "base_uri": "https://localhost:8080/",
          "height": 50
        },
        "outputId": "0da8ed47-0125-455f-9f6e-8e70ec30487a"
      },
      "source": [
        "print(calculate_sum(1234567))\n",
        "print(calculate_sum(9900))"
      ],
      "execution_count": 27,
      "outputs": [
        {
          "output_type": "stream",
          "text": [
            "28\n",
            "18\n"
          ],
          "name": "stdout"
        }
      ]
    },
    {
      "cell_type": "markdown",
      "metadata": {
        "id": "UjgzDfkSaGkk",
        "colab_type": "text"
      },
      "source": [
        "##### Expected output :  \n",
        "``28``\n",
        "\n",
        "``18``"
      ]
    },
    {
      "cell_type": "markdown",
      "metadata": {
        "id": "YqbtTtIlaGkx",
        "colab_type": "text"
      },
      "source": [
        "## Q 2) Factorial\n",
        "You're given an integer N (< 100). Write a program to calculate the factorial of N."
      ]
    },
    {
      "cell_type": "code",
      "metadata": {
        "id": "45ikJ6leaGlA",
        "colab_type": "code",
        "colab": {}
      },
      "source": [
        "def calculate_fac(N):\n",
        "    factorial = 1\n",
        "    while (N > 0):\n",
        "      factorial *= N\n",
        "      N -= 1  \n",
        "        \n",
        "    return factorial"
      ],
      "execution_count": 28,
      "outputs": []
    },
    {
      "cell_type": "code",
      "metadata": {
        "id": "ngSAY5-2aGlk",
        "colab_type": "code",
        "colab": {
          "base_uri": "https://localhost:8080/",
          "height": 50
        },
        "outputId": "30f63d13-11a4-4431-964d-608552877f52"
      },
      "source": [
        "print(calculate_fac(0))\n",
        "print(calculate_fac(12))"
      ],
      "execution_count": 29,
      "outputs": [
        {
          "output_type": "stream",
          "text": [
            "1\n",
            "479001600\n"
          ],
          "name": "stdout"
        }
      ]
    },
    {
      "cell_type": "markdown",
      "metadata": {
        "id": "-mgRIQrnaGmD",
        "colab_type": "text"
      },
      "source": [
        "##### Expected output:\n",
        "\n",
        "`1`\n",
        "\n",
        "`479001600`"
      ]
    },
    {
      "cell_type": "markdown",
      "metadata": {
        "id": "UfGmGW92aGmS",
        "colab_type": "text"
      },
      "source": [
        "## Q 3) Mahasena\n",
        "\n",
        "Kattapa, as you all know was one of the greatest warriors of his time. The kingdom of Maahishmati had never lost a battle under him (as army-chief), and the reason for that was their really powerful army, also called as Mahasena.\n",
        "\n",
        "Kattapa was known to be a very superstitious person. He believed that a soldier is \"lucky\" if the soldier is holding an even number of weapons, and \"unlucky\" otherwise. He considered the army as \"READY FOR BATTLE\" if the count of \"lucky\" soldiers is strictly greater than the count of \"unlucky\" soldiers, and \"NOT READY\" otherwise.\n",
        "\n",
        "Given the number of weapons each soldier is holding, your task is to determine whether the army formed by all these soldiers is \"READY FOR BATTLE\" or \"NOT READY\".\n",
        "\n",
        "\n",
        "The input consists of a single integer `N` denoting the number of soldiers and a list `Weapons` of integers A1, A2, ..., AN, where Ai denotes the number of weapons that the ith soldier is holding. You have to print whether the army is `READY FOR BATTLE` or `NOT READY`. Output is case sensitive!"
      ]
    },
    {
      "cell_type": "code",
      "metadata": {
        "id": "uSoFSROTaGmZ",
        "colab_type": "code",
        "colab": {}
      },
      "source": [
        "def is_ready(N, Weapons):\n",
        "    lucky_soldiers = 0\n",
        "    for soldier in Weapons:\n",
        "        if (soldier % 2 == 0):\n",
        "            lucky_soldiers += 1\n",
        "    #if lucky soldiers are strictly greater than unlucky soldiers in number, lucky soldiers comprise more than half of the total soldiers\n",
        "    if (2 * lucky_soldiers > N):\n",
        "        print(\"READY FOR BATTLE\")\n",
        "    else:\n",
        "        print(\"NOT READY\")"
      ],
      "execution_count": 30,
      "outputs": []
    },
    {
      "cell_type": "code",
      "metadata": {
        "id": "5NN7FsFPaGnc",
        "colab_type": "code",
        "colab": {
          "base_uri": "https://localhost:8080/",
          "height": 50
        },
        "outputId": "5baae972-cf2d-43b8-83fa-a058886a6e1b"
      },
      "source": [
        "is_ready(6, [1, 2, 3, 4, 5, 6])\n",
        "is_ready(4, [20, 24, 25, 228])"
      ],
      "execution_count": 31,
      "outputs": [
        {
          "output_type": "stream",
          "text": [
            "NOT READY\n",
            "READY FOR BATTLE\n"
          ],
          "name": "stdout"
        }
      ]
    },
    {
      "cell_type": "markdown",
      "metadata": {
        "id": "VuPs0JJcaGn-",
        "colab_type": "text"
      },
      "source": [
        "##### Expected output:\n",
        "\n",
        "`NOT READY`\n",
        "\n",
        "`READY FOR BATTLE`"
      ]
    },
    {
      "cell_type": "markdown",
      "metadata": {
        "id": "HpITsU53aGoD",
        "colab_type": "text"
      },
      "source": [
        "## Q 4) Little Elephants\n",
        "\n",
        "A Little Elephant and his friends from the Zoo of Powai like candies very much.\n",
        "\n",
        "There are N elephants in the Zoo. The elephant with number K (1 ≤ K ≤ N) will be happy if he receives at least AK candies. There are C candies in all in the Zoo.\n",
        "\n",
        "The Zoo staff is interested in knowing whether it is possible to make all the N elephants happy by giving each elephant at least as many candies as he wants, that is, the Kth elephant should receive at least AK candies. Each candy can be given to only one elephant. Print `Yes` if it is possible and `No` otherwise.\n",
        "\n",
        "The input consists of integers N and C, the total number of elephants and the total number of candies in the Zoo respectively. The third input `candies` is a list and  contains N integers A1, A2, ..., AN. \n",
        "\n",
        "For each test case output exactly one line containing the string Yes if it possible to make all elephants happy and the string No otherwise. Output is case sensitive. So do not print YES or yes.\n"
      ]
    },
    {
      "cell_type": "code",
      "metadata": {
        "id": "SjG0PnhKaGoO",
        "colab_type": "code",
        "colab": {}
      },
      "source": [
        "def all_happy(N, C, candies):\n",
        "    sum_candies = 0 #stores the sum of candies required by all elephants\n",
        "    for i in candies:\n",
        "        sum_candies += i\n",
        "    if (sum_candies <= C):\n",
        "        print(\"Yes\")\n",
        "    else:\n",
        "        print(\"No\")\n"
      ],
      "execution_count": 32,
      "outputs": []
    },
    {
      "cell_type": "code",
      "metadata": {
        "id": "cdpdDMidaGom",
        "colab_type": "code",
        "colab": {
          "base_uri": "https://localhost:8080/",
          "height": 50
        },
        "outputId": "86fc8874-21fd-43cd-c9a5-405f18b48a2b"
      },
      "source": [
        "all_happy(6, 8, [1, 1, 2, 2, 1, 2])\n",
        "all_happy(5, 575, [0, 110, 120, 130, 140])"
      ],
      "execution_count": 33,
      "outputs": [
        {
          "output_type": "stream",
          "text": [
            "No\n",
            "Yes\n"
          ],
          "name": "stdout"
        }
      ]
    },
    {
      "cell_type": "markdown",
      "metadata": {
        "id": "3Pgjrmk4aGpV",
        "colab_type": "text"
      },
      "source": [
        "##### Expected Output: \n",
        "\n",
        "`No`\n",
        "\n",
        "`Yes`"
      ]
    },
    {
      "cell_type": "markdown",
      "metadata": {
        "id": "sHWmaBmMaGpZ",
        "colab_type": "text"
      },
      "source": [
        "## Q 5) COVID Pandemic and Long Queue\n",
        "\n",
        "Due to the COVID pandemic, people have been advised to stay at least 6 feet away from any other person. Now, people are lining up in a queue at the local shop and it is your duty to check whether they are all following this advice.\n",
        "\n",
        "There are a total of N spots (numbered 1 through N) where people can stand in front of the local shop. The distance between each pair of adjacent spots is 1 foot. Each spot may be either empty or occupied; you are given a sequence A1,A2,…,AN, where for each valid i, Ai=0 means that the i-th spot is empty, while Ai=1 means that there is a person standing at this spot. It is guaranteed that the queue is not completely empty.\n",
        "\n",
        "For example, if N=11 and the sequence A is `(0,1,0,0,0,0,0,1,0,0,1)`, then this is a queue in which people are not following the advice because there are two people at a distance of just 3 feet from each other.\n",
        "\n",
        "You need to determine whether the people outside the local shop are following the social distancing advice or not. As long as some two people are standing at a distance smaller than 6 feet from each other, it is bad and you should report it, since social distancing is not being followed."
      ]
    },
    {
      "cell_type": "markdown",
      "metadata": {
        "id": "4Dd8acHsaGpf",
        "colab_type": "text"
      },
      "source": [
        "##### Input format\n",
        "The first input is N. The next input `queue` is in the form of a dictionary where each element is given as `'spot_number: value (0 or 1)`\n",
        "\n",
        "Example: the above sequence would be in input as:\n",
        "\n",
        "`{'1' : 0,  '2' : 1,  '3' : 0,  '4' : 0,  '5' : 0,  '6' : 0,  '7' : 0,  '8' : 1,  '9' : 0,  '10' : 0,  '11' : 1}`\n",
        "\n",
        "##### Output format\n",
        "For each test case, print a single line containing the string `Yes` if social distancing is being followed or `No` otherwise. Output is case-sensitive!"
      ]
    },
    {
      "cell_type": "code",
      "metadata": {
        "id": "nlH3ft2xaGpk",
        "colab_type": "code",
        "colab": {}
      },
      "source": [
        "def social_dist(N, queue):\n",
        "    person_position = [] #list for storing positions where a person is standing\n",
        "    for key in queue:\n",
        "        if queue[key] == 1:\n",
        "            #following condition checks if a person was standing before the current person AND if difference between their positions is less than 6 feet\n",
        "            if len(person_position) > 0 and (int(key) - int(person_position[-1]) < 6): \n",
        "                print('No') \n",
        "                return  #terminates the function as social distancing is not being followed\n",
        "            person_position.append(key)\n",
        "    print('Yes')"
      ],
      "execution_count": 34,
      "outputs": []
    },
    {
      "cell_type": "code",
      "metadata": {
        "id": "pYfgfQLRaGqG",
        "colab_type": "code",
        "colab": {
          "base_uri": "https://localhost:8080/",
          "height": 50
        },
        "outputId": "712f91f0-8776-4c36-a1c0-cbd94c58d4b0"
      },
      "source": [
        "queue1 = {'1':1, '2':0, '3':0, '4':0, '5':1}\n",
        "social_dist(5, queue1)\n",
        "\n",
        "queue2 = {'1':0, '2':0, '3':1, '4':0, '5':0, '6':0, '7':0, '8':0, '9':1, '10':0}\n",
        "social_dist(10, queue2)"
      ],
      "execution_count": 35,
      "outputs": [
        {
          "output_type": "stream",
          "text": [
            "No\n",
            "Yes\n"
          ],
          "name": "stdout"
        }
      ]
    },
    {
      "cell_type": "markdown",
      "metadata": {
        "id": "ctQZDlKbaGq0",
        "colab_type": "text"
      },
      "source": [
        "##### Expected output:\n",
        "\n",
        "`No`\n",
        "\n",
        "`Yes`"
      ]
    }
  ]
}